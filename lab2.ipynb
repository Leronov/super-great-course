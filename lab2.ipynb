{
 "cells": [
  {
   "cell_type": "markdown",
   "metadata": {},
   "source": [
    "a) Всі завдання виконувати засобами бібліотеки numpy без використання циклів для звернення до елементів матриць, а також функцій map(), filter(), reduce().  \n",
    "b) В комірках ноутбука повинна бути вказана постановка задачі. Для створення формул повинен бути використаний LaTex.  \n",
    "с) Перевірку здійснити за допомогою функції numpy.allclose()  "
   ]
  },
  {
   "cell_type": "markdown",
   "metadata": {},
   "source": [
    "<h2>1. Виконати набiр вправ (Варiант 3)</h2>\n",
    "<p>Вправи: 1, 3, 6, 7, 8, 14, 16, 18, 19, 22</p>"
   ]
  },
  {
   "cell_type": "code",
   "execution_count": 1,
   "metadata": {},
   "outputs": [],
   "source": [
    "import numpy as np"
   ]
  },
  {
   "cell_type": "markdown",
   "metadata": {},
   "source": [
    "Вправа 1. Вводиться число n. Вивести масив разміра nхn, в якому по\n",
    "діагоналі йдуть числа від 1 до n, а інші числа рівні 0"
   ]
  },
  {
   "cell_type": "code",
   "execution_count": 2,
   "metadata": {},
   "outputs": [],
   "source": [
    "def task_1():\n",
    "    n = int(input())\n",
    "    print(np.diag(np.arange(1, n + 1)))"
   ]
  },
  {
   "cell_type": "code",
   "execution_count": 3,
   "metadata": {},
   "outputs": [
    {
     "name": "stdin",
     "output_type": "stream",
     "text": [
      " 5\n"
     ]
    },
    {
     "name": "stdout",
     "output_type": "stream",
     "text": [
      "[[1 0 0 0 0]\n",
      " [0 2 0 0 0]\n",
      " [0 0 3 0 0]\n",
      " [0 0 0 4 0]\n",
      " [0 0 0 0 5]]\n"
     ]
    }
   ],
   "source": [
    "task_1()"
   ]
  },
  {
   "cell_type": "markdown",
   "metadata": {},
   "source": [
    "Вправа 3. Вводяться 4 числа n, m, r, c. Вивести масив розміру n на m, в якому в кожному r -му рядку і в кожному c-му стовбчику стоять 0, а інші елементи дорівнюють 1."
   ]
  },
  {
   "cell_type": "code",
   "execution_count": 4,
   "metadata": {},
   "outputs": [],
   "source": [
    "def task_3():\n",
    "    n = int(input())\n",
    "    m = int(input())\n",
    "    r = int(input())\n",
    "    c = int(input())\n",
    "    arr = np.ones((n, m))\n",
    "    arr[::r] = 0\n",
    "    arr[:, ::c] = 0\n",
    "    print(arr)"
   ]
  },
  {
   "cell_type": "code",
   "execution_count": 5,
   "metadata": {},
   "outputs": [
    {
     "name": "stdin",
     "output_type": "stream",
     "text": [
      " 6\n",
      " 7\n",
      " 2\n",
      " 3\n"
     ]
    },
    {
     "name": "stdout",
     "output_type": "stream",
     "text": [
      "[[0. 0. 0. 0. 0. 0. 0.]\n",
      " [0. 1. 1. 0. 1. 1. 0.]\n",
      " [0. 0. 0. 0. 0. 0. 0.]\n",
      " [0. 1. 1. 0. 1. 1. 0.]\n",
      " [0. 0. 0. 0. 0. 0. 0.]\n",
      " [0. 1. 1. 0. 1. 1. 0.]]\n"
     ]
    }
   ],
   "source": [
    "task_3()"
   ]
  },
  {
   "cell_type": "markdown",
   "metadata": {},
   "source": [
    "Вправа 6. З клавіатури вводиться масив. Замінити всі ненульові елементи на - 1."
   ]
  },
  {
   "cell_type": "code",
   "execution_count": 28,
   "metadata": {},
   "outputs": [],
   "source": [
    "def task_6():\n",
    "    arr = np.array([int(i) for i in input().split()])\n",
    "    arr[arr!=0] = -1\n",
    "    print(arr)"
   ]
  },
  {
   "cell_type": "code",
   "execution_count": 7,
   "metadata": {},
   "outputs": [
    {
     "name": "stdin",
     "output_type": "stream",
     "text": [
      " 3 4 0 9 7 0 6 0 4 0 3\n"
     ]
    },
    {
     "name": "stdout",
     "output_type": "stream",
     "text": [
      "[-1 -1  0 -1 -1  0 -1  0 -1  0 -1]\n"
     ]
    }
   ],
   "source": [
    "task_6()"
   ]
  },
  {
   "cell_type": "markdown",
   "metadata": {},
   "source": [
    "Вправа 7. З клавіатури вводиться масив. Замінити всі нульові елементи на -1."
   ]
  },
  {
   "cell_type": "code",
   "execution_count": 8,
   "metadata": {},
   "outputs": [],
   "source": [
    "def task_7():\n",
    "    arr = np.array([int(i) for i in input().split()])\n",
    "    arr[arr==0] = -1\n",
    "    print(arr)"
   ]
  },
  {
   "cell_type": "code",
   "execution_count": 9,
   "metadata": {},
   "outputs": [
    {
     "name": "stdin",
     "output_type": "stream",
     "text": [
      " 3 4 0 9 7 0 6 0 4 0 3\n"
     ]
    },
    {
     "name": "stdout",
     "output_type": "stream",
     "text": [
      "[ 3  4 -1  9  7 -1  6 -1  4 -1  3]\n"
     ]
    }
   ],
   "source": [
    "task_7()"
   ]
  },
  {
   "cell_type": "markdown",
   "metadata": {},
   "source": [
    "Вправа 8. З клавіатури вводиться масив. Підрахувати в ньому кількість нульових та ненульвих елементів."
   ]
  },
  {
   "cell_type": "code",
   "execution_count": 10,
   "metadata": {},
   "outputs": [],
   "source": [
    "def task_8():\n",
    "    arr = np.array([int(i) for i in input().split()])\n",
    "    print('Нулiв: {}'.format(np.count_nonzero(arr == 0)))\n",
    "    print('Не нулiв: {}'.format(np.count_nonzero(arr != 0)))"
   ]
  },
  {
   "cell_type": "code",
   "execution_count": 11,
   "metadata": {},
   "outputs": [
    {
     "name": "stdin",
     "output_type": "stream",
     "text": [
      " 3 4 0 9 8 2 4 0 8 4 0\n"
     ]
    },
    {
     "name": "stdout",
     "output_type": "stream",
     "text": [
      "Нулiв: 3\n",
      "Не нулiв: 8\n"
     ]
    }
   ],
   "source": [
    "task_8()"
   ]
  },
  {
   "cell_type": "markdown",
   "metadata": {},
   "source": [
    "Вправа 14. Розмістити на полі 8х8 0 та одиниці в шахматному порядку, використовуючи функцію повторення (*)."
   ]
  },
  {
   "cell_type": "code",
   "execution_count": 12,
   "metadata": {},
   "outputs": [],
   "source": [
    "def task_14():\n",
    "    print(np.reshape((([0, 1] * 4 + [1, 0] * 4) * 4), (8, 8)))"
   ]
  },
  {
   "cell_type": "code",
   "execution_count": 13,
   "metadata": {},
   "outputs": [
    {
     "name": "stdout",
     "output_type": "stream",
     "text": [
      "[[0 1 0 1 0 1 0 1]\n",
      " [1 0 1 0 1 0 1 0]\n",
      " [0 1 0 1 0 1 0 1]\n",
      " [1 0 1 0 1 0 1 0]\n",
      " [0 1 0 1 0 1 0 1]\n",
      " [1 0 1 0 1 0 1 0]\n",
      " [0 1 0 1 0 1 0 1]\n",
      " [1 0 1 0 1 0 1 0]]\n"
     ]
    }
   ],
   "source": [
    "task_14()"
   ]
  },
  {
   "cell_type": "markdown",
   "metadata": {},
   "source": [
    "Вправа 16. Заповнити парні стовбчики матриці розміром n х n одиницями, а непарні – нулями."
   ]
  },
  {
   "cell_type": "code",
   "execution_count": 14,
   "metadata": {},
   "outputs": [],
   "source": [
    "def task_16():\n",
    "    n = int(input())\n",
    "    arr = np.empty((n, n), dtype=np.int8)\n",
    "    arr[:, ::2] = 0\n",
    "    arr[:, 1::2] = 1\n",
    "    print(arr)"
   ]
  },
  {
   "cell_type": "code",
   "execution_count": 15,
   "metadata": {},
   "outputs": [
    {
     "name": "stdin",
     "output_type": "stream",
     "text": [
      " 6\n"
     ]
    },
    {
     "name": "stdout",
     "output_type": "stream",
     "text": [
      "[[0 1 0 1 0 1]\n",
      " [0 1 0 1 0 1]\n",
      " [0 1 0 1 0 1]\n",
      " [0 1 0 1 0 1]\n",
      " [0 1 0 1 0 1]\n",
      " [0 1 0 1 0 1]]\n"
     ]
    }
   ],
   "source": [
    "task_16()"
   ]
  },
  {
   "cell_type": "markdown",
   "metadata": {},
   "source": [
    "Вправа 18. Заповнити вектор значеннями від 0 до n. Замінити знаки для всіх значеннь, що менші за n/2 та більші за 3n/4 на протилежні"
   ]
  },
  {
   "cell_type": "code",
   "execution_count": 16,
   "metadata": {},
   "outputs": [],
   "source": [
    "def task_18():\n",
    "    n = int(input())\n",
    "    arr = np.arange(n)\n",
    "    arr[arr < n/2] *= -1\n",
    "    arr[arr > 3*n/4] *= -1\n",
    "    print(arr)"
   ]
  },
  {
   "cell_type": "code",
   "execution_count": 17,
   "metadata": {},
   "outputs": [
    {
     "name": "stdin",
     "output_type": "stream",
     "text": [
      " 10\n"
     ]
    },
    {
     "name": "stdout",
     "output_type": "stream",
     "text": [
      "[ 0 -1 -2 -3 -4  5  6  7 -8 -9]\n"
     ]
    }
   ],
   "source": [
    "task_18()"
   ]
  },
  {
   "cell_type": "markdown",
   "metadata": {},
   "source": [
    "Вправа 19. Згенерувати вектор з n випадкових чисел в діапазоні від 0 до 99. Визначити кількість унікальних чисел в послідовності."
   ]
  },
  {
   "cell_type": "code",
   "execution_count": 18,
   "metadata": {},
   "outputs": [],
   "source": [
    "def task_19():\n",
    "    n = int(input())\n",
    "    arr = np.random.randint(0, 100, n)\n",
    "    print(\"В послідовності\", arr, '-', np.unique(arr).size, 'унікальних чисел')"
   ]
  },
  {
   "cell_type": "code",
   "execution_count": 19,
   "metadata": {},
   "outputs": [
    {
     "name": "stdin",
     "output_type": "stream",
     "text": [
      " 30\n"
     ]
    },
    {
     "name": "stdout",
     "output_type": "stream",
     "text": [
      "В послідовності [97 30  7  5 66 32 36 41 21 74 60 83 55 80  6 83 15 42 22 84 35 86 89 86\n",
      "  6 88 20 78 20 82] - 26 унікальних чисел\n"
     ]
    }
   ],
   "source": [
    "task_19()"
   ]
  },
  {
   "cell_type": "markdown",
   "metadata": {},
   "source": [
    "Вправа 22. Ввести числа n і m. Згенерувати матрицю n на n випадкових цілих елементів з діапазону [0, m]. Замінити всі максимальні елементи цієї матриці на протилежні за знаком."
   ]
  },
  {
   "cell_type": "code",
   "execution_count": 20,
   "metadata": {},
   "outputs": [],
   "source": [
    "def task_22():\n",
    "    n = int(input())\n",
    "    m = int(input())\n",
    "    matr = np.random.randint(0, m+1, (n, m))\n",
    "    print('Початковий вектор\\n', matr)\n",
    "    matr[matr == np.max(matr)] *= -1\n",
    "    print('Змінений вектор\\n', matr)"
   ]
  },
  {
   "cell_type": "code",
   "execution_count": 21,
   "metadata": {},
   "outputs": [
    {
     "name": "stdin",
     "output_type": "stream",
     "text": [
      " 4\n",
      " 5\n"
     ]
    },
    {
     "name": "stdout",
     "output_type": "stream",
     "text": [
      "Початковий вектор\n",
      " [[4 1 3 1 4]\n",
      " [1 3 5 0 2]\n",
      " [3 2 1 0 4]\n",
      " [5 5 0 4 3]]\n",
      "Змінений вектор\n",
      " [[ 4  1  3  1  4]\n",
      " [ 1  3 -5  0  2]\n",
      " [ 3  2  1  0  4]\n",
      " [-5 -5  0  4  3]]\n"
     ]
    }
   ],
   "source": [
    "task_22()"
   ]
  },
  {
   "cell_type": "markdown",
   "metadata": {},
   "source": [
    "<h3>2. Розв’язати систему за допомогою формул Крамера і виконати перевірку за допомогою:</h3>\n",
    "<p>a) матричного множення;</p>\n",
    "<p>b) функції numpy.linalg.solve().</p>\n",
    "$$\\left\\{\\begin{array}{c}x_1+2x_2+3x_3+4x_4=5\\\\2x_1+x_2+2x_3+3x_4=1\\\\3x_1+2x_2+x_3+2x_4=1\\\\4x_1+3x_2+2x_3+x_4=-5\\end{array}\\right.$$"
   ]
  },
  {
   "cell_type": "code",
   "execution_count": 22,
   "metadata": {},
   "outputs": [],
   "source": [
    "def solve_Cramer():\n",
    "    slae = np.array([[1, 2, 3, 4, 5], [2, 1, 2, 3, 1], [3, 2, 1, 2, 1], [4, 3, 2, 1, -5]])\n",
    "    det_0 = np.linalg.det(slae[:,:4])\n",
    "    det_1 = np.linalg.det(np.concatenate((slae[:,4:5], slae[:,1:4]), axis=1))\n",
    "    det_2 = np.linalg.det(np.concatenate((np.concatenate((slae[:, 0:1], slae[:,4:5]), axis=1), slae[:, 2:4]), axis=1))\n",
    "    det_3 = np.linalg.det(np.concatenate((np.concatenate((slae[:, 0:2], slae[:,4:5]), axis=1), slae[:, 3:4]), axis=1))\n",
    "    det_4 = np.linalg.det(np.concatenate((slae[:, :3], slae[:, 4:5]), axis=1))\n",
    "    x1 = det_1 / det_0\n",
    "    x2 = det_2 / det_0\n",
    "    x3 = det_3 / det_0\n",
    "    x4 = det_4 / det_0\n",
    "    x = np.array([x1, x2, x3, x4])\n",
    "    print('Рiшення системи:\\nX =', x)\n",
    "    print('Перевiрка матричним множенням (A * X) = :\\n', np.dot(slae[:, :4], x))\n",
    "    print('Перевiрка за допомогою функції linalg.solve():\\n', np.linalg.solve(slae[:, :4], slae[:, 4:5]))"
   ]
  },
  {
   "cell_type": "code",
   "execution_count": 23,
   "metadata": {},
   "outputs": [
    {
     "name": "stdout",
     "output_type": "stream",
     "text": [
      "Рiшення системи:\n",
      "X = [-2.  2. -3.  3.]\n",
      "Перевiрка матричним множенням (A * X) = :\n",
      " [ 5.  1.  1. -5.]\n",
      "Перевiрка за допомогою функції linalg.solve():\n",
      " [[-2.]\n",
      " [ 2.]\n",
      " [-3.]\n",
      " [ 3.]]\n"
     ]
    }
   ],
   "source": [
    "solve_Cramer()"
   ]
  },
  {
   "cell_type": "markdown",
   "metadata": {},
   "source": [
    "<h3>3. Обчислити значення матричного виразу.</h3>\n",
    "$$2\\left(A-B\\right)\\left(A^2+B\\right),\\;A=\\begin{pmatrix}5&1&7\\\\-10&-2&1\\\\0&1&2\\end{pmatrix},\\;B=\\begin{pmatrix}2&4&1\\\\3&1&0\\\\7&2&1\\end{pmatrix}$$"
   ]
  },
  {
   "cell_type": "code",
   "execution_count": 24,
   "metadata": {},
   "outputs": [],
   "source": [
    "def solve_matrix_equation():\n",
    "    a = np.array([[5, 1, 7], [-10, -2, 1], [0, 1, 2]])\n",
    "    b = np.array([[2, 4, 1], [3, 1, 0], [7, 2, 1]])\n",
    "    print('A =', a, '\\nB =', b)\n",
    "    print('2*(A - B)*(A**2 + B) =\\n', 2*np.dot((a-b),(np.dot(a, a)+b)))"
   ]
  },
  {
   "cell_type": "code",
   "execution_count": 25,
   "metadata": {},
   "outputs": [
    {
     "name": "stdout",
     "output_type": "stream",
     "text": [
      "A = [[  5   1   7]\n",
      " [-10  -2   1]\n",
      " [  0   1   2]] \n",
      "B = [[2 4 1]\n",
      " [3 1 0]\n",
      " [7 2 1]]\n",
      "2*(A - B)*(A**2 + B) =\n",
      " [[ 228  132  798]\n",
      " [-286 -336 -894]\n",
      " [-190 -184 -562]]\n"
     ]
    }
   ],
   "source": [
    "solve_matrix_equation()"
   ]
  },
  {
   "cell_type": "markdown",
   "metadata": {},
   "source": [
    "<h4>4. Розв’язати рівняння за допомогою оберненої матриці і виконати перевірку за допомогою:</h4>\n",
    "<p>a) матричного множення;</p>\n",
    "<p>b) функції numpy.linalg.solve().</p>\n",
    "$$\\begin{pmatrix}4&-2&0\\\\1&1&2\\\\3&-2&0\\end{pmatrix}\\ast X=\\begin{pmatrix}0&-2&6\\\\2&4&3\\\\0&-3&4\\end{pmatrix}$$"
   ]
  },
  {
   "cell_type": "code",
   "execution_count": 26,
   "metadata": {},
   "outputs": [],
   "source": [
    "def solve_matrix_equation_2():\n",
    "    a = np.array([[4, -2, 0], [1, 1, 2], [3, -2, 0]])\n",
    "    b = np.array([[0, -2, 6], [2, 4, 3], [0, -3, 4]])\n",
    "    inv_a = np.linalg.inv(a)\n",
    "    x = np.dot(inv_a, b)\n",
    "    print('Рiшення рiвняння X =\\n', x)\n",
    "    print('Перевiрка матричним множенням A * X =\\n', np.dot(a, x))\n",
    "    print('Перевiрка за допомогою функції linalg.solve():\\n', np.linalg.solve(a, b))"
   ]
  },
  {
   "cell_type": "code",
   "execution_count": 27,
   "metadata": {},
   "outputs": [
    {
     "name": "stdout",
     "output_type": "stream",
     "text": [
      "Рiшення рiвняння X =\n",
      " [[0. 1. 2.]\n",
      " [0. 3. 1.]\n",
      " [1. 0. 0.]]\n",
      "Перевiрка матричним множенням A * X =\n",
      " [[ 0. -2.  6.]\n",
      " [ 2.  4.  3.]\n",
      " [ 0. -3.  4.]]\n",
      "Перевiрка за допомогою функції linalg.solve():\n",
      " [[0. 1. 2.]\n",
      " [0. 3. 1.]\n",
      " [1. 0. 0.]]\n"
     ]
    }
   ],
   "source": [
    "solve_matrix_equation_2()"
   ]
  }
 ],
 "metadata": {
  "kernelspec": {
   "display_name": "Python 3",
   "language": "python",
   "name": "python3"
  },
  "language_info": {
   "codemirror_mode": {
    "name": "ipython",
    "version": 3
   },
   "file_extension": ".py",
   "mimetype": "text/x-python",
   "name": "python",
   "nbconvert_exporter": "python",
   "pygments_lexer": "ipython3",
   "version": "3.8.3"
  }
 },
 "nbformat": 4,
 "nbformat_minor": 4
}
