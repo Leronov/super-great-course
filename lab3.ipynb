{
 "cells": [
  {
   "cell_type": "markdown",
   "metadata": {},
   "source": [
    "<h2>1. Моделювання та розв’язання задачі лінійного програмування:  </h2>\n",
    "a. Оберіть завдання за номером журналу групи<br>\n",
    "b. Опишіть введені змінні.<br>\n",
    "c. Створіть математичну модель задачі.  <br>\n",
    "d. Знайдіть рішення, використовуючи графічне представлення задачі лінійного програмування. Малюнок повинен містити лінії з їх рівняннями, виділеною напівплощиною, що задовольняє вихідним нерівностям, область допустимих рішень, точку оптимального рішення, лінію рівня.  <br>\n",
    "e. Розв’яжіть задачу за допомогою scipy.optimize.  <br>\n",
    "f. Розв’яжіть задачу за допомогою pulp.LpProblem.  <br>\n",
    "g. Порівняйте рішення за допомогою np.allclose ().  <br>\n",
    "h. Порівняйте час для розв’язання задачі за допомогою scipy.optimize та pulp.LpProblem.  <br>\n",
    "i. Поясніть отриманий результат.  <br>"
   ]
  },
  {
   "cell_type": "markdown",
   "metadata": {},
   "source": [
    "<h4>А. Завдання</h4>\n",
    "6. Для підживлення рослин необхідно внести на один гектар: не менш, ніж 24 ум. од. хімічної речовини В<sub>1</sub>, 30 ум. од. – В<sub>2</sub> і 15 ум. од. – В<sub>3</sub>. Усі ці речовини містяться у комбінованих добавках У<sub>1</sub> та У<sub>2</sub> у кількостях, які наведені у таблиці. Яку кількість комбінованих добрив кожного типу треба придбати, щоб забезпечити внесення необхідної кількості хімічних речовин, зробивши при цьому мінімальні витрати.\n",
    "<table>\n",
    "    <tr><td></td><td>B1</td><td>B2</td><td>B3</td><td>Вартість 1 ум.од.</td></tr>\n",
    "    <tr><td>Y1</td><td>3</td><td>4</td><td>1</td><td>3</td></tr>\n",
    "    <tr><td>Y2</td><td>2</td><td>5</td><td>3</td><td>5</td></tr>\n",
    "</table>"
   ]
  },
  {
   "cell_type": "markdown",
   "metadata": {},
   "source": [
    "<h4>B. Введенi змiннi.</h4>  \n",
    "Введемо позначення <b>x<sub>1</sub></b> - кiлькiсть першої добавки та <b>x<sub>2<sub></b> - кiлькiсть другої добавки.  \n",
    "<table border=\"2\"><caption>Параметри задачi</caption>\n",
    "<tbody>\n",
    "<tr>\n",
    "<td>Речовина</td>\n",
    "<td>1 Добавка</td>\n",
    "<td>2 Добавка</td>\n",
    "<td>Необхiдно</td>\n",
    "</tr>\n",
    "<tr>\n",
    "<td>B<sub>1</sub></td>\n",
    "<td>3</td>\n",
    "<td>2</td>\n",
    "<td>&ge;24</td>\n",
    "</tr>\n",
    "<tr>\n",
    "<td>B<sub>2</sub></td>\n",
    "<td>4</td>\n",
    "<td>5</td>\n",
    "<td>&ge;30</td>\n",
    "</tr>\n",
    "<tr>\n",
    "<td>B<sub>3</sub></td>\n",
    "<td>1</td>\n",
    "<td>3</td>\n",
    "<td>&ge;15</td>\n",
    "</tr>\n",
    "<tr>\n",
    "<td>Вартiсть</td>\n",
    "<td>3</td>\n",
    "<td>5</td>\n",
    "<td></td>\n",
    "</tr>\n",
    "</tbody>\n",
    "</table>"
   ]
  },
  {
   "cell_type": "markdown",
   "metadata": {},
   "source": [
    "<h4>C. Математична модель задачi</h4>\n",
    "Функцiя мети: $$F(x)=3x_{1}+5x_{2}\\rightarrow min$$\n",
    "  \n",
    "Обмеження:  \n",
    "$$\\left\\{\\begin{matrix}3x_{1}+2x_{2}\\geqslant24\n",
    "\\\\ 4x_{1}+5x_{2}\\geqslant30\n",
    "\\\\ x_{1}+3x_{2}\\geqslant15\n",
    "\\\\ x_{1},x_{2}\\geqslant0\n",
    "\\end{matrix}\\right.$$"
   ]
  },
  {
   "cell_type": "markdown",
   "metadata": {},
   "source": [
    "<h4>D. Графічне представлення задачі лінійного програмування</h4>\n",
    "<p>У обмеженнях задачі замінемо знаки нерівностей на знаки точної рівності і побудуємо відповідні прямі.</p>\n",
    "$$\\begin{matrix}\n",
    "1) 3x_{1}+2x_{2}\\geqslant 24\\rightarrow 3x_{1}+2x_{2}=24 & \n",
    "2) 4x_{1}+5x_{2}\\geqslant 30\\rightarrow 4x_{1}+5x_{2}=30\\\\\n",
    "\\begin{Bmatrix}x_{1}=6\\\\ x_{2}=3\\end{Bmatrix}\\begin{Bmatrix}x_{1}=4\\\\ x_{2}=6\\end{Bmatrix} &\n",
    "\\begin{Bmatrix}x_{1}=0\\\\ x_{2}=6\\end{Bmatrix}\\begin{Bmatrix}x_{1}=5\\\\ x_{2}=2\\end{Bmatrix}\\\\ \n",
    "3) x_{1}+3x_{2}\\geqslant 15\\rightarrow x_{1}+3x_{2}=15 & \n",
    "4) x_{1},x_{2}\\geqslant 0\\\\\n",
    "\\begin{Bmatrix}x_{1}=0\\\\ x_{2}=5\\end{Bmatrix}\\begin{Bmatrix}x_{1}=6\\\\ x_{2}=3\\end{Bmatrix}\n",
    "\\end{matrix}$$"
   ]
  },
  {
   "cell_type": "code",
   "execution_count": 239,
   "metadata": {},
   "outputs": [
    {
     "data": {
      "image/png": "[encoded data removed]",
      "text/plain": [
       "<Figure size 432x288 with 1 Axes>"
      ]
     },
     "metadata": {
      "needs_background": "light"
     },
     "output_type": "display_data"
    }
   ],
   "source": [
    "import numpy as np\n",
    "import matplotlib.pyplot as plt\n",
    "from scipy.optimize import linprog\n",
    "\n",
    "c = [3, 5]\n",
    "A = [[-3, -2], [-4, -5], [-1, -3]]\n",
    "b = [-24, -30, -15]\n",
    "res = linprog(c, A_ub=A, b_ub=b, bounds=[(0, None), (0, None)])\n",
    "\n",
    "def f(b, a1, a2, x):\n",
    "    y = np.array([])\n",
    "    for xIter in x:\n",
    "        yIter = (b-a1*xIter)/a2\n",
    "        y = np.append(y, yIter)\n",
    "    return y\n",
    "\n",
    "x = np.arange(0, 7, 0.2)\n",
    "for i in range(len(A)):\n",
    "    y = f(b=b[i], a1=A[i][0], x=x, a2=A[i][1])\n",
    "    plt.plot(x, y)\n",
    "    plt.fill_between(x, y, y+5, alpha=0.2)\n",
    "    plt.text(0, f(b=b[i], a1=A[i][0], x=[i,], a2=A[i][1])+3-i-1.2, \n",
    "             '{a1}*x1+ {a2}*x2 = {b}'.format(a1=A[i][0], a2=A[i][1], b=b[i]), \n",
    "             rotation=0)\n",
    "plt.plot(x, (c[0]*c[1]-np.abs(c[0])*x)/np.abs(c[1])+8, '--')\n",
    "plt.plot(res.x[0], res.x[1], 'ro')\n",
    "plt.text(res.x[0]-0.4, res.x[1]+0.2, 'Xmin')\n",
    "plt.text(5, 6, 'ОДР')\n",
    "plt.annotate('Level curve', \n",
    "             xy=(6, (c[0]*c[1]-np.abs(c[0])*2)/np.abs(c[1])+5.5), \n",
    "             xytext=(5, (c[0]*c[1]-np.abs(c[0])*3)/np.abs(c[1])+10), \n",
    "             size='x-large', arrowprops=dict(facecolor='red', arrowstyle='simple'))\n",
    "\n",
    "plt.show()"
   ]
  },
  {
   "cell_type": "markdown",
   "metadata": {},
   "source": [
    "<h4>E. Розв'язання задачi за допомогою scipy.optimize</h4>"
   ]
  },
  {
   "cell_type": "code",
   "execution_count": 219,
   "metadata": {},
   "outputs": [
    {
     "name": "stdout",
     "output_type": "stream",
     "text": [
      "     con: array([], dtype=float64)\n",
      "     fun: 32.99999984351905\n",
      " message: 'Optimization terminated successfully.'\n",
      "     nit: 4\n",
      "   slack: array([-8.58942499e-08,  8.99999983e+00, -8.35321892e-08])\n",
      "  status: 0\n",
      " success: True\n",
      "       x: array([5.99999999, 2.99999998])\n",
      "Time: 0.009976387023925781\n"
     ]
    }
   ],
   "source": [
    "import time\n",
    "c = [3, 5]\n",
    "A = [[-3, -2], [-4, -5], [-1, -3]]\n",
    "b = [-24, -30, -15]\n",
    "\n",
    "start = time.time()\n",
    "res = linprog(c, A_ub=A, b_ub=b)\n",
    "stop = time.time()\n",
    "print(res)\n",
    "print(\"Time:\", stop-start)\n",
    "optimize_time = stop-start"
   ]
  },
  {
   "cell_type": "markdown",
   "metadata": {},
   "source": [
    "<h4>F. Розв'язання задачi за допомогою pulp.LpProblem</h4>"
   ]
  },
  {
   "cell_type": "code",
   "execution_count": 221,
   "metadata": {},
   "outputs": [
    {
     "name": "stdout",
     "output_type": "stream",
     "text": [
      "x1 = 6.0\n",
      "x2 = 3.0\n",
      "Income:\n",
      "33.0\n",
      "Time: 0.10372328758239746\n"
     ]
    }
   ],
   "source": [
    "import pulp\n",
    "x1 = pulp.LpVariable(\"x1\", lowBound=0)\n",
    "x2 = pulp.LpVariable(\"x2\", lowBound=0)\n",
    "problem = pulp.LpProblem('0', pulp.LpMinimize)\n",
    "problem += 3*x1 + 5*x2, \"Objective function\"\n",
    "problem += 3*x1 + 2*x2 >= 24, 'first constrain'\n",
    "problem += 4*x1 + 5*x2 >= 30, 'second constrain'\n",
    "problem += x1 + 3*x2 >= 15, 'third constrain'\n",
    "start = time.time()\n",
    "problem.solve()\n",
    "stop = time.time()\n",
    "for var in problem.variables():\n",
    "    print(var.name, '=', var.varValue)\n",
    "print('Income:')\n",
    "print(pulp.value(problem.objective))\n",
    "print(\"Time:\", stop-start)\n",
    "pulp_time = stop-start"
   ]
  },
  {
   "cell_type": "markdown",
   "metadata": {},
   "source": [
    "<h4>G. Порівняння рішень за допомогою np.allclose ().</h4>\n"
   ]
  },
  {
   "cell_type": "code",
   "execution_count": 218,
   "metadata": {},
   "outputs": [
    {
     "name": "stdout",
     "output_type": "stream",
     "text": [
      "True\n"
     ]
    }
   ],
   "source": [
    "print(np.allclose([pulp.value(problem.objective)] + [var.varValue for var in problem.variables()], [res.fun, res.x[0], res.x[1]]))"
   ]
  },
  {
   "cell_type": "markdown",
   "metadata": {},
   "source": [
    "<h4>H. Порівняйте час для розв’язання задачі за допомогою scipy.optimize та pulp.LpProblem, пояснiть результат.</h4>"
   ]
  },
  {
   "cell_type": "code",
   "execution_count": 224,
   "metadata": {},
   "outputs": [
    {
     "name": "stdout",
     "output_type": "stream",
     "text": [
      "Разница между optimize и pulp = 0.09374690055847168\n"
     ]
    }
   ],
   "source": [
    "print('Разница между pulp и optimize =', pulp_time - optimize_time)"
   ]
  },
  {
   "cell_type": "markdown",
   "metadata": {},
   "source": [
    "От сюда следует, что время на решение у модуля pulp <b>больше</b> на 0.0937 для данной задачи.  \n",
    "Это обусловлено разными алгоритмами для решения задач линейного программирования у этих модулей."
   ]
  },
  {
   "cell_type": "markdown",
   "metadata": {},
   "source": [
    "<b>Пояснення:</b> Для того щоб витратити мінімум грошей (33 ум. од) на покупку добрив, нам потрібно придбати перший тип сумiшi у кількості 6, а сумiшi другого типу у кiлькостi 3. Причому перша та третя речовина є дефіцитною, тобто повністю (без залишків) використовується, а друга речовина має залишок 9 од."
   ]
  },
  {
   "cell_type": "markdown",
   "metadata": {},
   "source": [
    "<h2>2. Розв’язання транспортної задачі.</h2>\n",
    "<p>a. Опишіть введені змінні.  </p>\n",
    "<p>b. Створіть математичну модель задачі.  </p>\n",
    "<p>c. Вирішіть проблему за допомогою scipy.optimize.  </p>\n",
    "<p>d. Поясніть отриманий результат.</p>"
   ]
  },
  {
   "cell_type": "markdown",
   "metadata": {},
   "source": [
    "<h4>Транспортна задача:</h4> Задано 4 постачальники і 5 замовників для перевезення\n",
    "однорідного вантажу. Кожен i-й постачальник має аі (і=1, 2, ... , m) одиниць\n",
    "вантажу, а кожному j-му замовнику потрібно доставити bj (j=1, 2, ..., n)\n",
    "одиниць вантажу. Задані тарифи (вартості) cij перевезення одиниці вантажу\n",
    "від будь-якого і-го постачальника до будь-якого j-го замовника.\n",
    "Транспортному підприємству, яке виконує перевезення вантажів, необхідно\n",
    "визначити скільки одиниць вантажу xij потрібно перевезти від кожного і-го\n",
    "постачальника до кожного j-го замовника щоб здійснити перевезення усіх\n",
    "вантажів з мінімально-можливою загальною вартістю усіх перевезень"
   ]
  },
  {
   "cell_type": "markdown",
   "metadata": {},
   "source": [
    "<table border=\"1\"><caption>6 вариант</caption>\n",
    "<tbody>\n",
    "<tr><td>1</td><td>2</td><td>3</td><td>4</td><td>5</td><td>ai</td></tr>\n",
    "<tr><td>14</td><td>8</td><td>7</td><td>15</td><td>9</td><td>85</td></tr>\n",
    "<tr><td>4</td><td>5</td><td>11</td><td>8</td><td>14</td><td>110</td></tr>\n",
    "<tr><td>15</td><td>12</td><td>6</td><td>5</td><td>9</td><td>65</td></tr>\n",
    "<tr><td>10</td><td>8</td><td>6</td><td>4</td><td>5</td><td>80</td></tr>\n",
    "<tr><td>90</td><td>70</td><td>70</td><td>60</td><td>50</td><td>340</td></tr>\n",
    "</tbody>\n",
    "</table>"
   ]
  },
  {
   "cell_type": "markdown",
   "metadata": {},
   "source": [
    "$$ F(x) = 14x_{11} + 8x_{12} + 7x_{13} + 15x_{14} + 9x_{15} + 4x_{21} + 5x_{22} + 11x_{23} + 8x_{24}\\\\ + 14x_{25} + 15x_{31} + 12x_{32} + 6x_{33} + 5x_{34} + 9x_{35} + 10x_{41} + 8x_{42} + 6x_{43} + 4x_{44} + 5x_{45} \\rightarrow \\ min \\\\ Ограничения: \\\\ \\left\\{ \\begin{array}\\\\ 14x_{11} + 8x_{12} + 7x_{13} + 15x_{14} + 9x_{15} = 85 \\\\ 4x_{21} + 5x_{22} + 11x_{23} + 8x_{24} + 14x_{25} = 110 \\\\ 15x_{31} + 12x_{32} + 6x_{33} + 5x_{34} + 9x_{35} = 65 \\\\ 10x_{41} + 8x_{42} + 6x_{43} + 4x_{44} + 5x_{45} = 80 \\\\ 14x_{11} + 4x_{21} + 15x_{31} + 10x_{41} = 90 \\\\ 8x_{12} + 5x_{22} + 12x_{32} + 8x_{42} = 70 \\\\ 7x_{13} + 11x_{23} + 6x_{33} + 6x_{43} = 70 \\\\ 15x_{14} + 8x_{24} + 5x_{34} + 4x_{44} = 60 \\\\ 9x_{15} + 14x_{25} + 9x_{35} + 5x_{45} = 50 \\\\ x_{ij} \\geqslant 0, & i,j \\geqslant 0 \\ \\end{array} \\right. $$"
   ]
  },
  {
   "cell_type": "code",
   "execution_count": 244,
   "metadata": {},
   "outputs": [
    {
     "name": "stdout",
     "output_type": "stream",
     "text": [
      "Решение:\n",
      "x11 = 0.0; x12 = 50.0; x13 = 35.0; x14 = 0.0; x15 = 0.0; \n",
      "x21 = 90.0; x22 = 20.0; x23 = 0.0; x24 = 0.0; x25 = 0.0; \n",
      "x31 = 0.0; x32 = 0.0; x33 = 35.0; x34 = 30.0; x35 = 0.0; \n",
      "x41 = 0.0; x42 = 0.0; x43 = 0.0; x44 = 30.0; x45 = 50.0; \n",
      "F(x)min = 1835.0\n"
     ]
    },
    {
     "name": "stderr",
     "output_type": "stream",
     "text": [
      "<ipython-input-244-0f719b42df22>:12: OptimizeWarning: A_eq does not appear to be of full row rank. To improve performance, check the problem formulation for redundant equality constraints.\n",
      "  res = linprog(c, A_eq=A, b_eq=b)\n"
     ]
    }
   ],
   "source": [
    "c = [14, 8, 7, 15, 9, 4, 5, 11, 8, 14, 15, 12, 6, 5, 9, 10, 8, 6, 4, 5]\n",
    "A = [[1,1,1,1,1,0,0,0,0,0,0,0,0,0,0,0,0,0,0,0],\n",
    "     [0,0,0,0,0,1,1,1,1,1,0,0,0,0,0,0,0,0,0,0],\n",
    "     [0,0,0,0,0,0,0,0,0,0,1,1,1,1,1,0,0,0,0,0],\n",
    "     [0,0,0,0,0,0,0,0,0,0,0,0,0,0,0,1,1,1,1,1],\n",
    "     [1,0,0,0,0,1,0,0,0,0,1,0,0,0,0,1,0,0,0,0],\n",
    "     [0,1,0,0,0,0,1,0,0,0,0,1,0,0,0,0,1,0,0,0],\n",
    "     [0,0,1,0,0,0,0,1,0,0,0,0,1,0,0,0,0,1,0,0],\n",
    "     [0,0,0,1,0,0,0,0,1,0,0,0,0,1,0,0,0,0,1,0],\n",
    "     [0,0,0,0,1,0,0,0,0,1,0,0,0,0,1,0,0,0,0,1]] \n",
    "b = [85, 110, 65, 80, 90, 70, 70, 60, 50] \n",
    "res = linprog(c, A_eq=A, b_eq=b)\n",
    "print('Решение:')\n",
    "for i, var in enumerate(res.x):\n",
    "    print(\"x\", i//5+1, i%5+1, ' = ', round(var, 2), sep='', end = '; ')\n",
    "    if i%5==4:\n",
    "        print()\n",
    "print(\"F(x)min =\", round(res.fun, 2))"
   ]
  },
  {
   "cell_type": "code",
   "execution_count": null,
   "metadata": {},
   "outputs": [],
   "source": []
  }
 ],
 "metadata": {
  "kernelspec": {
   "display_name": "Python 3",
   "language": "python",
   "name": "python3"
  },
  "language_info": {
   "codemirror_mode": {
    "name": "ipython",
    "version": 3
   },
   "file_extension": ".py",
   "mimetype": "text/x-python",
   "name": "python",
   "nbconvert_exporter": "python",
   "pygments_lexer": "ipython3",
   "version": "3.8.3"
  }
 },
 "nbformat": 4,
 "nbformat_minor": 4
}
