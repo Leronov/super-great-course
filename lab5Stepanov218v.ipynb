{
 "cells": [
  {
   "cell_type": "markdown",
   "metadata": {},
   "source": [
    "1. Загрузити файл з даними про споживання енергії “En_In.xls”, який являє собою перелік показників енергозабезпечення та виробництва відновлюваної електроенергії, і ввести їх в DataFrame.  \n",
    "\n",
    "Майте на увазі, що це файл Excel, а не .csv. Також необхідно НЕ включати інформацію з нижніх та верхніх рядків файлу даних. Перші два стовпці непотрібні, тому їх необхідно виключити із датафрейму, а також поміняти мітки стовпців так, щоб вони були такими:  \n",
    "['Country', 'Energy Supply', 'Energy Supply per Capita', '%Renewable]"
   ]
  },
  {
   "cell_type": "code",
   "execution_count": 1,
   "metadata": {},
   "outputs": [],
   "source": [
    "import numpy as np\n",
    "import pandas as pd\n",
    "\n",
    "energy = pd.read_excel('En_In.xls', \n",
    "                       skiprows=range(17), \n",
    "                       usecols=\"C:F\", \n",
    "                       nrows=227, \n",
    "                       names=['Country', 'Energy Supply', 'Energy Supply per Capita', '%Renewable'])"
   ]
  },
  {
   "cell_type": "markdown",
   "metadata": {},
   "source": [
    "2. Переведіть дані із стовпчику ‘Energy Supply’ в гДж (Примітка: в 1ПДж = 1000000 ГДж). Для всіх країн, у яких відсутні дані (наприклад, дані з \"...\"), переконайтеся, що це відображається як значення np.NaN."
   ]
  },
  {
   "cell_type": "code",
   "execution_count": 2,
   "metadata": {},
   "outputs": [],
   "source": [
    "energy['Energy Supply'] = energy['Energy Supply'].apply(\n",
    "    lambda x: np.NaN if (str(x) == '...') else x * 1000000)\n",
    "energy['Energy Supply per Capita'] = energy['Energy Supply per Capita'].apply(\n",
    "    lambda x: np.NaN if (str(x) == '...') else x)"
   ]
  },
  {
   "cell_type": "markdown",
   "metadata": {},
   "source": [
    "3. Перейменуйте наступний список країн:  \n",
    "\"Republic of Korea\": \"South Korea\",  \n",
    "\"United States of America\": \"United States\", \n",
    "\"United Kingdom of Great Britain and Northern Ireland\": \"UnitedKingdom\",  \n",
    "\"China, Hong Kong Special Administrative Region\": \"Hong Kong\""
   ]
  },
  {
   "cell_type": "code",
   "execution_count": 10,
   "metadata": {},
   "outputs": [],
   "source": [
    "energy.loc[energy['Country'] == 'Republic of Korea', 'Country'] = \"South Korea\"\n",
    "energy.loc[energy['Country'] == 'United States of America', 'Country'] = \"United States\"\n",
    "energy.loc[energy['Country'] == 'United Kingdom of Great Britain and Northern Ireland', 'Country'] = \"United Kingdom\"\n",
    "energy.loc[energy['Country'] == 'China, Hong Kong Special Administrative Region', 'Country'] = \"Hong Kong\""
   ]
  },
  {
   "cell_type": "markdown",
   "metadata": {},
   "source": [
    "4. Існує також декілька країн, що мають в назві цифри та/або дужки.\n",
    "Обов’язково видаліть їх, напр. 'Bolivia (Plurinational State of)' повинна бути ‘Bolivia’, ‘Switzerland17’ повинна бути Switzerland’."
   ]
  },
  {
   "cell_type": "code",
   "execution_count": 4,
   "metadata": {},
   "outputs": [],
   "source": [
    "def str_country(s):\n",
    "    res = ''\n",
    "    for c in s:\n",
    "        if c.isdigit() or c == '(':\n",
    "            break\n",
    "        else:\n",
    "            res += c\n",
    "    return res.strip()\n",
    "\n",
    "\n",
    "energy['Country'] = energy['Country'].apply(str_country)"
   ]
  },
  {
   "cell_type": "code",
   "execution_count": 5,
   "metadata": {},
   "outputs": [
    {
     "data": {
      "text/html": [
       "<div>\n",
       "<style scoped>\n",
       "    .dataframe tbody tr th:only-of-type {\n",
       "        vertical-align: middle;\n",
       "    }\n",
       "\n",
       "    .dataframe tbody tr th {\n",
       "        vertical-align: top;\n",
       "    }\n",
       "\n",
       "    .dataframe thead th {\n",
       "        text-align: right;\n",
       "    }\n",
       "</style>\n",
       "<table border=\"1\" class=\"dataframe\">\n",
       "  <thead>\n",
       "    <tr style=\"text-align: right;\">\n",
       "      <th></th>\n",
       "      <th>Country</th>\n",
       "      <th>Energy Supply</th>\n",
       "      <th>Energy Supply per Capita</th>\n",
       "      <th>%Renewable</th>\n",
       "    </tr>\n",
       "  </thead>\n",
       "  <tbody>\n",
       "    <tr>\n",
       "      <th>3</th>\n",
       "      <td>American Samoa</td>\n",
       "      <td>nan</td>\n",
       "      <td>nan</td>\n",
       "      <td>0.641</td>\n",
       "    </tr>\n",
       "    <tr>\n",
       "      <th>24</th>\n",
       "      <td>Bolivia</td>\n",
       "      <td>336000000.000</td>\n",
       "      <td>32.000</td>\n",
       "      <td>31.477</td>\n",
       "    </tr>\n",
       "    <tr>\n",
       "      <th>164</th>\n",
       "      <td>South Korea</td>\n",
       "      <td>11007000000.000</td>\n",
       "      <td>221.000</td>\n",
       "      <td>2.279</td>\n",
       "    </tr>\n",
       "  </tbody>\n",
       "</table>\n",
       "</div>"
      ],
      "text/plain": [
       "            Country   Energy Supply  Energy Supply per Capita  %Renewable\n",
       "3    American Samoa             nan                       nan       0.641\n",
       "24          Bolivia   336000000.000                    32.000      31.477\n",
       "164     South Korea 11007000000.000                   221.000       2.279"
      ]
     },
     "execution_count": 5,
     "metadata": {},
     "output_type": "execute_result"
    }
   ],
   "source": [
    "pd.options.display.float_format = '{:.3f}'.format\n",
    "energy.loc[energy['Country'].isin(['American Samoa', 'South Korea', 'Bolivia'])]"
   ]
  },
  {
   "cell_type": "markdown",
   "metadata": {},
   "source": [
    "5. Далі, завантажте дані про ВВП з файлу „gpd.csv”, що містить дані Світового банку про ВВП країн від 1960 до 2015 року. Обов’язково не включайте заголовок до датафрейму і перейменуйте наступний список країн:  \n",
    "\"Korea, Rep.\": \"South Korea\",  \n",
    "\"Iran, Islamic Rep.\": \"Iran\",  \n",
    "\"Hong Kong SAR, China\": \"Hong Kong\"  "
   ]
  },
  {
   "cell_type": "code",
   "execution_count": 6,
   "metadata": {},
   "outputs": [
    {
     "data": {
      "text/html": [
       "<div>\n",
       "<style scoped>\n",
       "    .dataframe tbody tr th:only-of-type {\n",
       "        vertical-align: middle;\n",
       "    }\n",
       "\n",
       "    .dataframe tbody tr th {\n",
       "        vertical-align: top;\n",
       "    }\n",
       "\n",
       "    .dataframe thead th {\n",
       "        text-align: right;\n",
       "    }\n",
       "</style>\n",
       "<table border=\"1\" class=\"dataframe\">\n",
       "  <thead>\n",
       "    <tr style=\"text-align: right;\">\n",
       "      <th></th>\n",
       "      <th>Country Name</th>\n",
       "      <th>Country Code</th>\n",
       "      <th>Indicator Name</th>\n",
       "      <th>Indicator Code</th>\n",
       "      <th>1960</th>\n",
       "      <th>1961</th>\n",
       "      <th>1962</th>\n",
       "      <th>1963</th>\n",
       "      <th>1964</th>\n",
       "      <th>1965</th>\n",
       "      <th>...</th>\n",
       "      <th>2006</th>\n",
       "      <th>2007</th>\n",
       "      <th>2008</th>\n",
       "      <th>2009</th>\n",
       "      <th>2010</th>\n",
       "      <th>2011</th>\n",
       "      <th>2012</th>\n",
       "      <th>2013</th>\n",
       "      <th>2014</th>\n",
       "      <th>2015</th>\n",
       "    </tr>\n",
       "  </thead>\n",
       "  <tbody>\n",
       "    <tr>\n",
       "      <th>0</th>\n",
       "      <td>Aruba</td>\n",
       "      <td>ABW</td>\n",
       "      <td>GDP at market prices (constant 2010 US$)</td>\n",
       "      <td>NY.GDP.MKTP.KD</td>\n",
       "      <td>nan</td>\n",
       "      <td>nan</td>\n",
       "      <td>nan</td>\n",
       "      <td>nan</td>\n",
       "      <td>nan</td>\n",
       "      <td>nan</td>\n",
       "      <td>...</td>\n",
       "      <td>nan</td>\n",
       "      <td>nan</td>\n",
       "      <td>nan</td>\n",
       "      <td>nan</td>\n",
       "      <td>2467703910.615</td>\n",
       "      <td>nan</td>\n",
       "      <td>nan</td>\n",
       "      <td>nan</td>\n",
       "      <td>nan</td>\n",
       "      <td>nan</td>\n",
       "    </tr>\n",
       "  </tbody>\n",
       "</table>\n",
       "<p>1 rows × 60 columns</p>\n",
       "</div>"
      ],
      "text/plain": [
       "  Country Name Country Code                            Indicator Name  \\\n",
       "0        Aruba          ABW  GDP at market prices (constant 2010 US$)   \n",
       "\n",
       "   Indicator Code  1960  1961  1962  1963  1964  1965  ...  2006  2007  2008  \\\n",
       "0  NY.GDP.MKTP.KD   nan   nan   nan   nan   nan   nan  ...   nan   nan   nan   \n",
       "\n",
       "   2009           2010  2011  2012  2013  2014  2015  \n",
       "0   nan 2467703910.615   nan   nan   nan   nan   nan  \n",
       "\n",
       "[1 rows x 60 columns]"
      ]
     },
     "execution_count": 6,
     "metadata": {},
     "output_type": "execute_result"
    }
   ],
   "source": [
    "gpd = pd.read_csv('gpd.csv', skiprows=range(4))\n",
    " \n",
    "gpd.loc[gpd['Country Name'] == 'Korea, Rep.', 'Country Name'] = \"South Korea\"\n",
    "gpd.loc[gpd['Country Name'] == 'Iran, Islamic Rep.', 'Country Name'] = \"Iran\"\n",
    "gpd.loc[gpd['Country Name'] == 'Hong Kong SAR, China', 'Country Name'] = \"Hong Kong\"\n",
    "\n",
    "gpd.head(1)"
   ]
  },
  {
   "cell_type": "markdown",
   "metadata": {},
   "source": [
    "6. Завантажте дані з файлу „scimagojr.xlsx”, який класифікує країни на основі\n",
    "їхніх публікацій в журналах у галузі енергетичного машинобудування та\n",
    "енергетичних технологій."
   ]
  },
  {
   "cell_type": "code",
   "execution_count": 7,
   "metadata": {},
   "outputs": [
    {
     "data": {
      "text/html": [
       "<div>\n",
       "<style scoped>\n",
       "    .dataframe tbody tr th:only-of-type {\n",
       "        vertical-align: middle;\n",
       "    }\n",
       "\n",
       "    .dataframe tbody tr th {\n",
       "        vertical-align: top;\n",
       "    }\n",
       "\n",
       "    .dataframe thead th {\n",
       "        text-align: right;\n",
       "    }\n",
       "</style>\n",
       "<table border=\"1\" class=\"dataframe\">\n",
       "  <thead>\n",
       "    <tr style=\"text-align: right;\">\n",
       "      <th></th>\n",
       "      <th>Rank</th>\n",
       "      <th>Country</th>\n",
       "      <th>Documents</th>\n",
       "      <th>Citable documents</th>\n",
       "      <th>Citations</th>\n",
       "      <th>Self-citations</th>\n",
       "      <th>Citations per document</th>\n",
       "      <th>H index</th>\n",
       "    </tr>\n",
       "  </thead>\n",
       "  <tbody>\n",
       "    <tr>\n",
       "      <th>0</th>\n",
       "      <td>1</td>\n",
       "      <td>China</td>\n",
       "      <td>127050</td>\n",
       "      <td>126767</td>\n",
       "      <td>597237</td>\n",
       "      <td>411683</td>\n",
       "      <td>4.700</td>\n",
       "      <td>138</td>\n",
       "    </tr>\n",
       "    <tr>\n",
       "      <th>1</th>\n",
       "      <td>2</td>\n",
       "      <td>United States</td>\n",
       "      <td>96661</td>\n",
       "      <td>94747</td>\n",
       "      <td>792274</td>\n",
       "      <td>265436</td>\n",
       "      <td>8.200</td>\n",
       "      <td>230</td>\n",
       "    </tr>\n",
       "    <tr>\n",
       "      <th>2</th>\n",
       "      <td>3</td>\n",
       "      <td>Japan</td>\n",
       "      <td>30504</td>\n",
       "      <td>30287</td>\n",
       "      <td>223024</td>\n",
       "      <td>61554</td>\n",
       "      <td>7.310</td>\n",
       "      <td>134</td>\n",
       "    </tr>\n",
       "  </tbody>\n",
       "</table>\n",
       "</div>"
      ],
      "text/plain": [
       "   Rank        Country  Documents  Citable documents  Citations  \\\n",
       "0     1          China     127050             126767     597237   \n",
       "1     2  United States      96661              94747     792274   \n",
       "2     3          Japan      30504              30287     223024   \n",
       "\n",
       "   Self-citations  Citations per document  H index  \n",
       "0          411683                   4.700      138  \n",
       "1          265436                   8.200      230  \n",
       "2           61554                   7.310      134  "
      ]
     },
     "execution_count": 7,
     "metadata": {},
     "output_type": "execute_result"
    }
   ],
   "source": [
    "sjr = pd.read_excel('scimagojr.xlsx', engine='openpyxl')\n",
    "sjr.head(3)"
   ]
  },
  {
   "cell_type": "markdown",
   "metadata": {},
   "source": [
    "7. Приєднайте три набори даних із завдань 1-6 до нового набору даних\n",
    "(використовуючи перетин назв країн).\n",
    "- Використовуйте лише дані про ВВП за останні 10 років (2006-2015 рр.) і\n",
    "лише 15 найкращих країн за рейтингом Scimagojr (Rank від 1 до 15)\n",
    "- Індексом цього DataFrame повинна бути назва країни, а стовпцями мають\n",
    "бути ['Rank', 'Documents', 'Citable documents', 'Citations', 'Self-citations',\n",
    "'Citations per document', 'H index', 'Energy Supply', 'Energy Supply per Capita', '%\n",
    "Renewable', '2006', '2007', '2008', '2009', '2010', '2011', '2012', '2013', '2014',\n",
    "'2015'].\n",
    "Ви повинні отримати DataFrame з 15 рядками та 20 стовпцями."
   ]
  },
  {
   "cell_type": "code",
   "execution_count": 8,
   "metadata": {},
   "outputs": [],
   "source": [
    "gpd_new = gpd.set_index('Country Name')\n",
    "gpd_new = gpd_new.loc[:, '2006':'2015']"
   ]
  },
  {
   "cell_type": "code",
   "execution_count": 11,
   "metadata": {},
   "outputs": [
    {
     "data": {
      "text/html": [
       "<div>\n",
       "<style scoped>\n",
       "    .dataframe tbody tr th:only-of-type {\n",
       "        vertical-align: middle;\n",
       "    }\n",
       "\n",
       "    .dataframe tbody tr th {\n",
       "        vertical-align: top;\n",
       "    }\n",
       "\n",
       "    .dataframe thead th {\n",
       "        text-align: right;\n",
       "    }\n",
       "</style>\n",
       "<table border=\"1\" class=\"dataframe\">\n",
       "  <thead>\n",
       "    <tr style=\"text-align: right;\">\n",
       "      <th></th>\n",
       "      <th>Rank</th>\n",
       "      <th>Documents</th>\n",
       "      <th>Citable documents</th>\n",
       "      <th>Citations</th>\n",
       "      <th>Self-citations</th>\n",
       "      <th>Citations per document</th>\n",
       "      <th>H index</th>\n",
       "      <th>Energy Supply</th>\n",
       "      <th>Energy Supply per Capita</th>\n",
       "      <th>%Renewable</th>\n",
       "      <th>2006</th>\n",
       "      <th>2007</th>\n",
       "      <th>2008</th>\n",
       "      <th>2009</th>\n",
       "      <th>2010</th>\n",
       "      <th>2011</th>\n",
       "      <th>2012</th>\n",
       "      <th>2013</th>\n",
       "      <th>2014</th>\n",
       "      <th>2015</th>\n",
       "    </tr>\n",
       "    <tr>\n",
       "      <th>Country</th>\n",
       "      <th></th>\n",
       "      <th></th>\n",
       "      <th></th>\n",
       "      <th></th>\n",
       "      <th></th>\n",
       "      <th></th>\n",
       "      <th></th>\n",
       "      <th></th>\n",
       "      <th></th>\n",
       "      <th></th>\n",
       "      <th></th>\n",
       "      <th></th>\n",
       "      <th></th>\n",
       "      <th></th>\n",
       "      <th></th>\n",
       "      <th></th>\n",
       "      <th></th>\n",
       "      <th></th>\n",
       "      <th></th>\n",
       "      <th></th>\n",
       "    </tr>\n",
       "  </thead>\n",
       "  <tbody>\n",
       "    <tr>\n",
       "      <th>China</th>\n",
       "      <td>1</td>\n",
       "      <td>127050</td>\n",
       "      <td>126767</td>\n",
       "      <td>597237</td>\n",
       "      <td>411683</td>\n",
       "      <td>4.700</td>\n",
       "      <td>138</td>\n",
       "      <td>127191000000.000</td>\n",
       "      <td>93.000</td>\n",
       "      <td>19.755</td>\n",
       "      <td>3992331462570.890</td>\n",
       "      <td>4559041383517.930</td>\n",
       "      <td>4997775145605.960</td>\n",
       "      <td>5459247267275.140</td>\n",
       "      <td>6039658508485.590</td>\n",
       "      <td>6612490294273.650</td>\n",
       "      <td>7124977970399.610</td>\n",
       "      <td>7672447738017.420</td>\n",
       "      <td>8230120617793.520</td>\n",
       "      <td>8797998940421.279</td>\n",
       "    </tr>\n",
       "    <tr>\n",
       "      <th>United States</th>\n",
       "      <td>2</td>\n",
       "      <td>96661</td>\n",
       "      <td>94747</td>\n",
       "      <td>792274</td>\n",
       "      <td>265436</td>\n",
       "      <td>8.200</td>\n",
       "      <td>230</td>\n",
       "      <td>90838000000.000</td>\n",
       "      <td>286.000</td>\n",
       "      <td>11.571</td>\n",
       "      <td>14792303791800.000</td>\n",
       "      <td>15055395304800.000</td>\n",
       "      <td>15011490541400.000</td>\n",
       "      <td>14594842181900.000</td>\n",
       "      <td>14964372000000.000</td>\n",
       "      <td>15204019634600.000</td>\n",
       "      <td>15542161722300.000</td>\n",
       "      <td>15773666098800.000</td>\n",
       "      <td>16156618476000.000</td>\n",
       "      <td>16548573278300.000</td>\n",
       "    </tr>\n",
       "    <tr>\n",
       "      <th>Japan</th>\n",
       "      <td>3</td>\n",
       "      <td>30504</td>\n",
       "      <td>30287</td>\n",
       "      <td>223024</td>\n",
       "      <td>61554</td>\n",
       "      <td>7.310</td>\n",
       "      <td>134</td>\n",
       "      <td>18984000000.000</td>\n",
       "      <td>149.000</td>\n",
       "      <td>10.233</td>\n",
       "      <td>5496541517363.310</td>\n",
       "      <td>5617035943770.730</td>\n",
       "      <td>5558526873313.820</td>\n",
       "      <td>5251308399909.320</td>\n",
       "      <td>5498717815809.770</td>\n",
       "      <td>5473738114222.050</td>\n",
       "      <td>5569101602926.180</td>\n",
       "      <td>5644658523313.420</td>\n",
       "      <td>5642884448582.190</td>\n",
       "      <td>5669563143140.970</td>\n",
       "    </tr>\n",
       "  </tbody>\n",
       "</table>\n",
       "</div>"
      ],
      "text/plain": [
       "               Rank  Documents  Citable documents  Citations  Self-citations  \\\n",
       "Country                                                                        \n",
       "China             1     127050             126767     597237          411683   \n",
       "United States     2      96661              94747     792274          265436   \n",
       "Japan             3      30504              30287     223024           61554   \n",
       "\n",
       "               Citations per document  H index    Energy Supply  \\\n",
       "Country                                                           \n",
       "China                           4.700      138 127191000000.000   \n",
       "United States                   8.200      230  90838000000.000   \n",
       "Japan                           7.310      134  18984000000.000   \n",
       "\n",
       "               Energy Supply per Capita  %Renewable               2006  \\\n",
       "Country                                                                  \n",
       "China                            93.000      19.755  3992331462570.890   \n",
       "United States                   286.000      11.571 14792303791800.000   \n",
       "Japan                           149.000      10.233  5496541517363.310   \n",
       "\n",
       "                            2007               2008               2009  \\\n",
       "Country                                                                  \n",
       "China          4559041383517.930  4997775145605.960  5459247267275.140   \n",
       "United States 15055395304800.000 15011490541400.000 14594842181900.000   \n",
       "Japan          5617035943770.730  5558526873313.820  5251308399909.320   \n",
       "\n",
       "                            2010               2011               2012  \\\n",
       "Country                                                                  \n",
       "China          6039658508485.590  6612490294273.650  7124977970399.610   \n",
       "United States 14964372000000.000 15204019634600.000 15542161722300.000   \n",
       "Japan          5498717815809.770  5473738114222.050  5569101602926.180   \n",
       "\n",
       "                            2013               2014               2015  \n",
       "Country                                                                 \n",
       "China          7672447738017.420  8230120617793.520  8797998940421.279  \n",
       "United States 15773666098800.000 16156618476000.000 16548573278300.000  \n",
       "Japan          5644658523313.420  5642884448582.190  5669563143140.970  "
      ]
     },
     "execution_count": 11,
     "metadata": {},
     "output_type": "execute_result"
    }
   ],
   "source": [
    "result = pd.merge(sjr[sjr['Rank'] <= 15], energy, on=\"Country\")\n",
    "result = result.set_index('Country')\n",
    "result = result.join(gpd_new)\n",
    "result.head(3)"
   ]
  },
  {
   "cell_type": "code",
   "execution_count": 12,
   "metadata": {},
   "outputs": [
    {
     "data": {
      "text/plain": [
       "(15, 20)"
      ]
     },
     "execution_count": 12,
     "metadata": {},
     "output_type": "execute_result"
    }
   ],
   "source": [
    "result.shape"
   ]
  },
  {
   "cell_type": "markdown",
   "metadata": {},
   "source": [
    "8. Створіть функцію, щоб визначити середній ВВП країн за останні 10 років.\n",
    "Ця функція повинна повертати об’єкт Series з 15 країнами та їх середній\n",
    "ВВП, відсортований за спаданням."
   ]
  },
  {
   "cell_type": "code",
   "execution_count": 13,
   "metadata": {},
   "outputs": [
    {
     "data": {
      "text/plain": [
       "Country\n",
       "United States        15364344302990.000\n",
       "China                 6348608932836.100\n",
       "Japan                 5542207638235.176\n",
       "Germany               3493025339072.848\n",
       "France                2681724635761.589\n",
       "United Kingdom        2487906661418.417\n",
       "Brazil                2189794143774.905\n",
       "Italy                 2120175089933.776\n",
       "India                 1769297396603.860\n",
       "Canada                1660647466307.512\n",
       "Russian Federation    1565459478480.661\n",
       "Spain                 1418078278145.694\n",
       "Australia             1164042729991.427\n",
       "South Korea           1106714508244.852\n",
       "Iran                   444155754051.095\n",
       "dtype: float64"
      ]
     },
     "execution_count": 13,
     "metadata": {},
     "output_type": "execute_result"
    }
   ],
   "source": [
    "def task_eight():\n",
    "    avg_gdp = result.loc[:, '2006':'2015'].mean(1).sort_values(ascending=False)\n",
    "    return avg_gdp\n",
    "\n",
    "task_eight()"
   ]
  },
  {
   "cell_type": "markdown",
   "metadata": {},
   "source": [
    "9. Створіть функцію, щоб визначити, наскільки змінився ВВП за останні 10\n",
    "років для країни з 5-м середнім ВВП.\n",
    "Ця функція повинна повертати кортеж із назвою країни та значенням, на\n",
    "яке змінився ВВП."
   ]
  },
  {
   "cell_type": "code",
   "execution_count": 14,
   "metadata": {},
   "outputs": [
    {
     "data": {
      "text/plain": [
       "('France', 153345695364.24023)"
      ]
     },
     "execution_count": 14,
     "metadata": {},
     "output_type": "execute_result"
    }
   ],
   "source": [
    "def task_nine():\n",
    "    country5 = tuple(task_eight().items())[4][0]\n",
    "    return (country5, abs(result.loc[country5, '2015'] - result.loc[country5, '2006']))\n",
    "\n",
    "\n",
    "task_nine()"
   ]
  },
  {
   "cell_type": "markdown",
   "metadata": {},
   "source": [
    "10. Створіть функцію, щоб визначити, в якій країні встановлено максимум\n",
    "поновлюваних джерел енергії (% Renewable) та який саме відсоток. Ця функція повинна повертати кортеж із назвою країни та відсотком."
   ]
  },
  {
   "cell_type": "code",
   "execution_count": 15,
   "metadata": {},
   "outputs": [
    {
     "data": {
      "text/plain": [
       "('Brazil', 69.64803)"
      ]
     },
     "execution_count": 15,
     "metadata": {},
     "output_type": "execute_result"
    }
   ],
   "source": [
    "def task_ten():\n",
    "    return tuple(result.sort_values(by='%Renewable')['%Renewable'].tail(1).items())[0]\n",
    "\n",
    "task_ten()"
   ]
  },
  {
   "cell_type": "markdown",
   "metadata": {},
   "source": [
    "11. Створіть стовпець, в якому оцінюється чисельність населення. Для пошуку оцінки використовуйте значення енергопостачання (Energy Supply)\n",
    "та енергопостачання на душу населення (Energy Supply per Capita). Яка країна є шостою за цією оцінкою? Ця функція повинна повертати кортеж із назвою країни та населенням"
   ]
  },
  {
   "cell_type": "code",
   "execution_count": 16,
   "metadata": {},
   "outputs": [
    {
     "data": {
      "text/plain": [
       "('Japan', 127409395.97315437)"
      ]
     },
     "execution_count": 16,
     "metadata": {},
     "output_type": "execute_result"
    }
   ],
   "source": [
    "def task_eleven():\n",
    "    result['population'] = result['Energy Supply'] / result['Energy Supply per Capita']\n",
    "    return tuple(result['population'].sort_values(ascending=False).items())[5]\n",
    "\n",
    "\n",
    "task_eleven()"
   ]
  },
  {
   "cell_type": "markdown",
   "metadata": {},
   "source": [
    "12. Створіть стовпець, в якому оцінюється кількість цитованих документів на\n",
    "одну особу. Який взаємозв'язок між кількістю цитованих документів на\n",
    "душу населення та енергозабезпеченням на душу населення? Використовуйте\n",
    "метод .corr () (кореляція Пірсона).\n",
    "Ця функція повинна повертати одне число"
   ]
  },
  {
   "cell_type": "code",
   "execution_count": 17,
   "metadata": {},
   "outputs": [
    {
     "data": {
      "text/plain": [
       "0.7940010435442943"
      ]
     },
     "execution_count": 17,
     "metadata": {},
     "output_type": "execute_result"
    }
   ],
   "source": [
    "def task_twelve():\n",
    "    result['Citable documents per Capita'] = result['Citable documents'] / result['population']\n",
    "    return result[['Citable documents per Capita', 'Energy Supply per Capita']].corr().iloc()[1][0]\n",
    "\n",
    "\n",
    "task_twelve()"
   ]
  },
  {
   "cell_type": "markdown",
   "metadata": {},
   "source": [
    "13. Створіть новий стовпчик в який занесіть 1, якщо значення %\n",
    "відновлюваної енергії (% Renewable) країни дорівнює або вище медіани для\n",
    "всіх країн, і 0, якщо значення (% Renewable) нижче медіани.\n",
    "Ця функція повинна повертати Series, індексом якого є назва країни,\n",
    "відсортована у порядку зростання Rank"
   ]
  },
  {
   "cell_type": "code",
   "execution_count": 18,
   "metadata": {},
   "outputs": [
    {
     "data": {
      "text/plain": [
       "Country\n",
       "China                 1\n",
       "United States         0\n",
       "Japan                 0\n",
       "United Kingdom        0\n",
       "Russian Federation    1\n",
       "Canada                1\n",
       "Germany               1\n",
       "India                 0\n",
       "France                1\n",
       "South Korea           0\n",
       "Italy                 1\n",
       "Spain                 1\n",
       "Iran                  0\n",
       "Australia             0\n",
       "Brazil                1\n",
       "Name: More renewable, dtype: int64"
      ]
     },
     "execution_count": 18,
     "metadata": {},
     "output_type": "execute_result"
    }
   ],
   "source": [
    "def task_thirteen():\n",
    "    result['More renewable'] = result['%Renewable'].apply(lambda x: 1 if x >= result['%Renewable'].median() else 0)    \n",
    "    return result['More renewable']\n",
    "\n",
    "\n",
    "task_thirteen()"
   ]
  },
  {
   "cell_type": "markdown",
   "metadata": {},
   "source": [
    "14. Використайте наступний словник, щоб згрупувати країни за\n",
    "континентами, потім створіть DataFrame, який відображає розмір вибірки\n",
    "(кількість країн на кожному континенті), а також суму, середнє та стандартне\n",
    "відхилення для оцінки кількості населення для кожної країни.\n",
    "ContinentDict = {'China':'Asia',\n",
    "'United States':'North America',\n",
    "'Japan':'Asia',\n",
    "'United Kingdom':'Europe',\n",
    "'Russian Federation':'Europe',\n",
    "'Canada':'North America',\n",
    "'Germany':'Europe',\n",
    "'India':'Asia',\n",
    "'France':'Europe',\n",
    "'South Korea':'Asia',\n",
    "'Italy':'Europe',\n",
    "'Spain':'Europe',\n",
    "'Iran':'Asia',\n",
    "'Australia':'Australia',\n",
    "'Brazil':'South America'}\n",
    "\n",
    "Ця функція повинна повертати DataFrame з індексом, що має ім’я Continent\n",
    "['Asia', 'Australia', 'Europe', 'North America', 'South America'] та стовпцями\n",
    "['size', 'sum', 'mean', 'std ']."
   ]
  },
  {
   "cell_type": "code",
   "execution_count": 19,
   "metadata": {},
   "outputs": [
    {
     "data": {
      "text/html": [
       "<div>\n",
       "<style scoped>\n",
       "    .dataframe tbody tr th:only-of-type {\n",
       "        vertical-align: middle;\n",
       "    }\n",
       "\n",
       "    .dataframe tbody tr th {\n",
       "        vertical-align: top;\n",
       "    }\n",
       "\n",
       "    .dataframe thead th {\n",
       "        text-align: right;\n",
       "    }\n",
       "</style>\n",
       "<table border=\"1\" class=\"dataframe\">\n",
       "  <thead>\n",
       "    <tr style=\"text-align: right;\">\n",
       "      <th></th>\n",
       "      <th>size</th>\n",
       "      <th>sum</th>\n",
       "      <th>mean</th>\n",
       "      <th>std</th>\n",
       "    </tr>\n",
       "  </thead>\n",
       "  <tbody>\n",
       "    <tr>\n",
       "      <th>Asia</th>\n",
       "      <td>5</td>\n",
       "      <td>2898666386.611</td>\n",
       "      <td>579733277.322</td>\n",
       "      <td>679097888.366</td>\n",
       "    </tr>\n",
       "    <tr>\n",
       "      <th>Australia</th>\n",
       "      <td>1</td>\n",
       "      <td>23316017.316</td>\n",
       "      <td>23316017.316</td>\n",
       "      <td>nan</td>\n",
       "    </tr>\n",
       "    <tr>\n",
       "      <th>Europe</th>\n",
       "      <td>6</td>\n",
       "      <td>457929667.216</td>\n",
       "      <td>76321611.203</td>\n",
       "      <td>34647667.066</td>\n",
       "    </tr>\n",
       "    <tr>\n",
       "      <th>North America</th>\n",
       "      <td>2</td>\n",
       "      <td>352855249.480</td>\n",
       "      <td>176427624.740</td>\n",
       "      <td>199669644.857</td>\n",
       "    </tr>\n",
       "    <tr>\n",
       "      <th>South America</th>\n",
       "      <td>1</td>\n",
       "      <td>205915254.237</td>\n",
       "      <td>205915254.237</td>\n",
       "      <td>nan</td>\n",
       "    </tr>\n",
       "  </tbody>\n",
       "</table>\n",
       "</div>"
      ],
      "text/plain": [
       "               size            sum          mean           std\n",
       "Asia              5 2898666386.611 579733277.322 679097888.366\n",
       "Australia         1   23316017.316  23316017.316           nan\n",
       "Europe            6  457929667.216  76321611.203  34647667.066\n",
       "North America     2  352855249.480 176427624.740 199669644.857\n",
       "South America     1  205915254.237 205915254.237           nan"
      ]
     },
     "execution_count": 19,
     "metadata": {},
     "output_type": "execute_result"
    }
   ],
   "source": [
    "def task_fourteen():\n",
    "    ContinentDict = {'China':'Asia', 'United States':'North America', 'Japan':'Asia', 'United Kingdom':'Europe', 'Russian Federation':'Europe', 'Canada':'North America', 'Germany':'Europe', 'India':'Asia', 'France':'Europe', 'South Korea':'Asia', 'Italy':'Europe', 'Spain':'Europe', 'Iran':'Asia', 'Australia':'Australia', 'Brazil':'South America'}\n",
    "    return result.groupby(ContinentDict)['population'].agg(['size', 'sum', 'mean', 'std'])\n",
    "\n",
    "\n",
    "task_fourteen()"
   ]
  },
  {
   "cell_type": "markdown",
   "metadata": {},
   "source": [
    "15. Створіть бульбашкову діаграму, що відображає залежність % поновлюван\n",
    "их джерел від рейтингу країни (% Renewable vs. Rank). Розмір бульбашки від\n",
    "повідає ВВП країн 2015 року, а колір відповідає континенту."
   ]
  },
  {
   "cell_type": "code",
   "execution_count": 20,
   "metadata": {},
   "outputs": [
    {
     "data": {
      "image/png": "[encoded data removed]",
      "text/plain": [
       "<Figure size 1296x432 with 1 Axes>"
      ]
     },
     "metadata": {
      "needs_background": "light"
     },
     "output_type": "display_data"
    }
   ],
   "source": [
    "import matplotlib.pyplot as plt\n",
    "\n",
    "colors = ['red', 'blue', 'red', 'green', 'green', 'blue', 'green', 'red', 'green', 'red', 'green', 'green', 'red', 'yellow', 'orange']\n",
    "\n",
    "plt.figure(figsize=(18, 6))\n",
    "plt.scatter(result['Rank'], result['%Renewable'], s=result['2015']/1400000000, color=colors, alpha=0.5)\n",
    "\n",
    "for i in range(15):\n",
    "    plt.annotate(result.iloc()[i].name, xy=(result.iloc()[i]['Rank'], result.iloc()[i]['%Renewable']), ha='center')\n",
    "\n",
    "plt.xlabel(\"Rank\", size=14)\n",
    "plt.ylabel(\"% Renewable\", size=14)\n",
    "plt.title(\"Task 15 Chart by Stepanov\")\n",
    "plt.show()"
   ]
  },
  {
   "cell_type": "code",
   "execution_count": null,
   "metadata": {},
   "outputs": [],
   "source": []
  }
 ],
 "metadata": {
  "kernelspec": {
   "display_name": "Python 3",
   "language": "python",
   "name": "python3"
  },
  "language_info": {
   "codemirror_mode": {
    "name": "ipython",
    "version": 3
   },
   "file_extension": ".py",
   "mimetype": "text/x-python",
   "name": "python",
   "nbconvert_exporter": "python",
   "pygments_lexer": "ipython3",
   "version": "3.9.0"
  }
 },
 "nbformat": 4,
 "nbformat_minor": 4
}
