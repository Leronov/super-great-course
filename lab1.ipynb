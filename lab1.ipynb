{
 "cells": [
  {
   "cell_type": "markdown",
   "metadata": {},
   "source": [
    "<a href=\"https://ru.wikipedia.org/wiki/%D0%93%D1%80%D1%83%D0%B7%D0%B8%D1%8F\"><h1 style=\"text-align:center\">Грузія</h1></a>\n",
    "<p style=\"text-align:center\"><img src=\"https://upload.wikimedia.org/wikipedia/commons/thumb/b/bb/Flag_of_Georgia_official.svg/240px-Flag_of_Georgia_official.svg.png\"></p>\n",
    "<h4>Відомості про країну</h4>\n",
    "<ul>\n",
    "<li>Площа території 69 700 км² <i>(121 місце в світі)</i></li>\n",
    "<li>Населення 3 716 858 чол.</li>\n",
    "<li>Форма правління парламентська республіка</li>\n",
    "</ul>\n",
    "<h4>Адміністративно-територіальний поділ</h4>\n",
    "<table>\n",
    "    <thead>\n",
    "        <tr><th>Назва</th><th>Населення</th><th>Адміністративний центр</th></tr>\n",
    "    </thead>\n",
    "    <tbody>\n",
    "        <tr><td>м. Тбiлiсi</td><td>1 158 700</td><td>-</td></tr>\n",
    "        <tr><td>Аджарська Автономна Республіка</td><td>346 300</td><td>Батумi</td></tr>\n",
    "        <tr><td>Гурiя</td><td>110 500</td><td>Озургетi</td></tr>\n",
    "        <tr><td>Имеретия</td><td>507 500</td><td>Кутаici</td></tr>\n",
    "    </tbody>\n",
    "</table>"
   ]
  },
  {
   "cell_type": "code",
   "execution_count": 1,
   "metadata": {},
   "outputs": [
    {
     "data": {
      "text/html": [
       "<svg xmlns=\"http://www.w3.org/2000/svg\" xmlns:xlink=\"http://www.w3.org/1999/xlink\" width=\"900\" height=\"600\" viewBox=\"0 0 300 200\">\n",
       "<defs>\n",
       "<g id=\"smallcross\"><clipPath id=\"vclip\"><path d=\"M-109,104 a104,104 0 0,0 0,-208 H109 a104,104 0 0,0 0,208 z\"/></clipPath><path id=\"varm\" d=\"M-55,74 a55,55 0 0,1 110,0 V-74 a55,55 0 0,1 -110,0 z\" clip-path=\"url(#vclip)\"/>\n",
       "<use xlink:href=\"#varm\" transform=\"rotate(90)\"/></g>\n",
       "</defs>\n",
       "<rect width=\"300\" height=\"200\" style=\"fill:#fff\"/>\n",
       "<path d=\"m 130,0 0,80 -130,0 L 0,120 l 130,0 0,80 40,0 0,-80 130,0 0,-40 -130,0 L 170,0 130,0 z\" style=\"fill:#ff0000\" />\n",
       "<use xlink:href=\"#smallcross\" transform=\"translate(64.45,39.45)\" fill=\"#f00\"/>\n",
       "<use xlink:href=\"#smallcross\" transform=\"translate(235.55,160.55)\" fill=\"#f00\"/>\n",
       "<use xlink:href=\"#smallcross\" transform=\"translate(235.55,39.45)\" fill=\"#f00\"/>\n",
       "<use xlink:href=\"#smallcross\" transform=\"translate(64.45,160.55)\" fill=\"#f00\"/>\n",
       "</svg>\n"
      ],
      "text/plain": [
       "<IPython.core.display.HTML object>"
      ]
     },
     "metadata": {},
     "output_type": "display_data"
    }
   ],
   "source": [
    "%%HTML\n",
    "<svg xmlns=\"http://www.w3.org/2000/svg\" xmlns:xlink=\"http://www.w3.org/1999/xlink\" width=\"900\" height=\"600\" viewBox=\"0 0 300 200\">\n",
    "<defs>\n",
    "<g id=\"smallcross\"><clipPath id=\"vclip\"><path d=\"M-109,104 a104,104 0 0,0 0,-208 H109 a104,104 0 0,0 0,208 z\"/></clipPath><path id=\"varm\" d=\"M-55,74 a55,55 0 0,1 110,0 V-74 a55,55 0 0,1 -110,0 z\" clip-path=\"url(#vclip)\"/>\n",
    "<use xlink:href=\"#varm\" transform=\"rotate(90)\"/></g>\n",
    "</defs>\n",
    "<rect width=\"300\" height=\"200\" style=\"fill:#fff\"/>\n",
    "<path d=\"m 130,0 0,80 -130,0 L 0,120 l 130,0 0,80 40,0 0,-80 130,0 0,-40 -130,0 L 170,0 130,0 z\" style=\"fill:#ff0000\" />\n",
    "<use xlink:href=\"#smallcross\" transform=\"translate(64.45,39.45)\" fill=\"#f00\"/>\n",
    "<use xlink:href=\"#smallcross\" transform=\"translate(235.55,160.55)\" fill=\"#f00\"/>\n",
    "<use xlink:href=\"#smallcross\" transform=\"translate(235.55,39.45)\" fill=\"#f00\"/>\n",
    "<use xlink:href=\"#smallcross\" transform=\"translate(64.45,160.55)\" fill=\"#f00\"/>\n",
    "</svg>"
   ]
  },
  {
   "cell_type": "markdown",
   "metadata": {},
   "source": [
    "<h3>Реалізувати гном’яче сортування для введеного списку елементів від найбільшого до найменшого</h3>"
   ]
  },
  {
   "cell_type": "code",
   "execution_count": 2,
   "metadata": {},
   "outputs": [],
   "source": [
    "def gnome_sort():\n",
    "    try:\n",
    "        array = [int(i) for i in input().split()]\n",
    "        i, size = 1, len(array)\n",
    "        while i < size:\n",
    "            if array[i - 1] >= array[i]:\n",
    "                i += 1\n",
    "            else:\n",
    "                array[i - 1], array[i] = array[i], array[i - 1] \n",
    "                if i > 1:\n",
    "                    i -= 1\n",
    "        print(array)\n",
    "    except ValueError:\n",
    "        print('Incorrect input. Please, enter only numbers.')"
   ]
  },
  {
   "cell_type": "code",
   "execution_count": 3,
   "metadata": {},
   "outputs": [
    {
     "name": "stdin",
     "output_type": "stream",
     "text": [
      " 4 2 7 9\n"
     ]
    },
    {
     "name": "stdout",
     "output_type": "stream",
     "text": [
      "[9, 7, 4, 2]\n"
     ]
    }
   ],
   "source": [
    "gnome_sort()"
   ]
  },
  {
   "cell_type": "code",
   "execution_count": 4,
   "metadata": {},
   "outputs": [
    {
     "name": "stdin",
     "output_type": "stream",
     "text": [
      " 4 9 3 -5 f 5\n"
     ]
    },
    {
     "name": "stdout",
     "output_type": "stream",
     "text": [
      "Incorrect input. Please, enter only numbers.\n"
     ]
    }
   ],
   "source": [
    "gnome_sort()"
   ]
  },
  {
   "cell_type": "code",
   "execution_count": 5,
   "metadata": {},
   "outputs": [
    {
     "name": "stdin",
     "output_type": "stream",
     "text": [
      " 4 7 5 2 3 6 8 41 25 36 29 10 32 4 3 8 6\n"
     ]
    },
    {
     "name": "stdout",
     "output_type": "stream",
     "text": [
      "[41, 36, 32, 29, 25, 10, 8, 8, 7, 6, 6, 5, 4, 4, 3, 3, 2]\n"
     ]
    }
   ],
   "source": [
    "gnome_sort()"
   ]
  },
  {
   "cell_type": "code",
   "execution_count": null,
   "metadata": {},
   "outputs": [],
   "source": []
  }
 ],
 "metadata": {
  "kernelspec": {
   "display_name": "Python 3",
   "language": "python",
   "name": "python3"
  },
  "language_info": {
   "codemirror_mode": {
    "name": "ipython",
    "version": 3
   },
   "file_extension": ".py",
   "mimetype": "text/x-python",
   "name": "python",
   "nbconvert_exporter": "python",
   "pygments_lexer": "ipython3",
   "version": "3.8.3"
  }
 },
 "nbformat": 4,
 "nbformat_minor": 4
}
